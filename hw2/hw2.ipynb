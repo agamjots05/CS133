{
 "cells": [
  {
   "cell_type": "code",
   "execution_count": null,
   "metadata": {},
   "outputs": [],
   "source": [
    "import pandas as pd\n",
    "import numpy as np\n",
    "import matplotlib.pyplot as plt\n",
    "from sklearn.model_selection import train_test_split\n",
    "\n",
    "trainingArr = pd.read_csv('./train-1.csv')\n",
    "testArr = pd.read_csv('./test.csv')\n",
    "#getting the y_row of the testArr\n",
    "x_test = testArr.drop('arousal', axis = 1)\n",
    "y_test = testArr['arousal']\n",
    "\n",
    "# x_test = x_test.values.tolist()\n",
    "# y_test = y_test.values.tolist()\n",
    "\n",
    "# seperating x and y values accordingly and initializing values needed later\n",
    "X_train = trainingArr.drop('arousal', axis=1)\n",
    "y_train = trainingArr['arousal']\n",
    "\n",
    "print(x_train)"
   ]
  }
 ],
 "metadata": {
  "language_info": {
   "name": "python"
  },
  "orig_nbformat": 4
 },
 "nbformat": 4,
 "nbformat_minor": 2
}
